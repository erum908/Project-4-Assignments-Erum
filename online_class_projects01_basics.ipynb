{
  "nbformat": 4,
  "nbformat_minor": 0,
  "metadata": {
    "colab": {
      "provenance": [],
      "authorship_tag": "ABX9TyPyosq6h7p2iqO8h3fsMcCL",
      "include_colab_link": true
    },
    "kernelspec": {
      "name": "python3",
      "display_name": "Python 3"
    },
    "language_info": {
      "name": "python"
    }
  },
  "cells": [
    {
      "cell_type": "markdown",
      "metadata": {
        "id": "view-in-github",
        "colab_type": "text"
      },
      "source": [
        "<a href=\"https://colab.research.google.com/github/erum908/Project-4-Assignments-Erum/blob/main/online_class_projects01_basics.ipynb\" target=\"_parent\"><img src=\"https://colab.research.google.com/assets/colab-badge.svg\" alt=\"Open In Colab\"/></a>"
      ]
    },
    {
      "cell_type": "code",
      "execution_count": 5,
      "metadata": {
        "colab": {
          "base_uri": "https://localhost:8080/"
        },
        "id": "IYfwpr9r89Pz",
        "outputId": "80cc93d7-0c25-4361-b514-37c4dca9c496"
      },
      "outputs": [
        {
          "output_type": "stream",
          "name": "stdout",
          "text": [
            "What do you want? joke\n",
            "Sure! Here's a joke for you:Why do programmers prefer dark mode? Because light attracts bugs!\n"
          ]
        }
      ],
      "source": [
        "PROMPT: str = \"What do you want? \"\n",
        "JOKE: str = \"Sure! Here's a joke for you:\" \"Why do programmers prefer dark mode? Because light attracts bugs!\"\n",
        "SORRY: str = \"Sorry I only tell jokes.\"\n",
        "\n",
        "def main():\n",
        "\n",
        "    user_input = input(PROMPT).strip().lower()\n",
        "\n",
        "    if \"joke\" in user_input:\n",
        "        print(JOKE)\n",
        "    else:\n",
        "        print(SORRY)\n",
        "\n",
        "if __name__ == \"__main__\":\n",
        "    main()"
      ]
    },
    {
      "cell_type": "code",
      "source": [
        "print(\"01_double_it\")\n",
        "\n",
        "def main():\n",
        "  try:\n",
        "     user_value = int(input(\"Enter a number: \"))\n",
        "     while user_value < 100:\n",
        "         user_value *= 2\n",
        "     print(\"Final_value:\",user_value)\n",
        "  except ValueError:\n",
        "    print(\"Invalid input! Please enter a valid number.\")\n",
        "\n",
        "if __name__== \"__main__\":\n",
        "    main()\n"
      ],
      "metadata": {
        "colab": {
          "base_uri": "https://localhost:8080/"
        },
        "id": "RTTH81M8A1s8",
        "outputId": "fadf97c0-bcf9-4d15-ed92-5388eef67226"
      },
      "execution_count": 6,
      "outputs": [
        {
          "output_type": "stream",
          "name": "stdout",
          "text": [
            "01_double_it\n",
            "Enter a number: 4\n",
            "Final_value: 128\n"
          ]
        }
      ]
    },
    {
      "cell_type": "code",
      "source": [
        "print(\"02_liftoff\")\n",
        "\n",
        "def main():\n",
        "  for i in range(10,0,-1):\n",
        "    print(i,end = \" \")\n",
        "  print(\"liftoff\")\n",
        "\n",
        "if __name__== \"__main__\":\n",
        "    main"
      ],
      "metadata": {
        "colab": {
          "base_uri": "https://localhost:8080/"
        },
        "id": "F3IKKBmNBq8m",
        "outputId": "6c21843a-8bd6-45f1-edb9-119f408ba388"
      },
      "execution_count": 10,
      "outputs": [
        {
          "output_type": "stream",
          "name": "stdout",
          "text": [
            "02_liftoff\n"
          ]
        }
      ]
    },
    {
      "cell_type": "code",
      "source": [
        "print(\"03_guess_my_number\")\n",
        "\n",
        "import random\n",
        "print(\"03_guess_my_number\")\n",
        "\n",
        "def main():\n",
        "    secret_number = random.randint(1,100)\n",
        "    print(\"I am thinking of a number between 1 and 100\")\n",
        "\n",
        "    guess = int(input(\"Enter a guess:\"))\n",
        "\n",
        "    while guess !=secret_number:\n",
        "        if guess < secret_number:\n",
        "            print(\"Your guess is too low. \")\n",
        "        else:\n",
        "            print(\"Your guess istoo high. \")\n",
        "        guess = int(input(\"Enter a guess:\"))\n",
        "\n",
        "    print(\"You got it\")\n",
        "\n",
        "if __name__ == \"__main__\":\n",
        "  main()"
      ],
      "metadata": {
        "colab": {
          "base_uri": "https://localhost:8080/"
        },
        "id": "k4Q4pTiTEovu",
        "outputId": "a36ac1c3-f5d8-4386-a629-33023031d698"
      },
      "execution_count": 9,
      "outputs": [
        {
          "output_type": "stream",
          "name": "stdout",
          "text": [
            "03_guess_my_number\n",
            "03_guess_my_number\n",
            "I am thinking of a number between 1 and 100\n",
            "Enter a guess:2\n",
            "Your guess is too low. \n",
            "Enter a guess:70\n",
            "Your guess istoo high. \n",
            "Enter a guess:50\n",
            "Your guess istoo high. \n",
            "Enter a guess:40\n",
            "Your guess istoo high. \n",
            "Enter a guess:30\n",
            "Your guess istoo high. \n",
            "Enter a guess:20\n",
            "Your guess is too low. \n",
            "Enter a guess:21\n",
            "Your guess is too low. \n",
            "Enter a guess:22\n",
            "Your guess is too low. \n",
            "Enter a guess:23\n",
            "Your guess is too low. \n",
            "Enter a guess:24\n",
            "Your guess is too low. \n",
            "Enter a guess:25\n",
            "Your guess is too low. \n",
            "Enter a guess:26\n",
            "Your guess is too low. \n",
            "Enter a guess:27\n",
            "Your guess is too low. \n",
            "Enter a guess:28\n",
            "You got it\n"
          ]
        }
      ]
    },
    {
      "cell_type": "code",
      "source": [
        "import random\n",
        "print(\"04_random_numbers\")\n",
        "\n",
        "def main():\n",
        "  for _ in range(20):\n",
        "    print(random.randint(1,100),end = \" \")\n",
        "\n",
        "if __name__ == \"__main__\":\n",
        "  main()\n"
      ],
      "metadata": {
        "colab": {
          "base_uri": "https://localhost:8080/"
        },
        "id": "NWcJfIoOHGuE",
        "outputId": "142cdf75-8737-4047-9b6e-f160bf1b13b4"
      },
      "execution_count": 13,
      "outputs": [
        {
          "output_type": "stream",
          "name": "stdout",
          "text": [
            "04_random_numbers\n",
            "37 11 90 50 68 87 32 7 7 84 92 88 91 88 46 10 45 15 74 43 "
          ]
        }
      ]
    }
  ]
}