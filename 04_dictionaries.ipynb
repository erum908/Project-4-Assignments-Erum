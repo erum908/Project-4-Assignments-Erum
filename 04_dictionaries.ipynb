{
  "nbformat": 4,
  "nbformat_minor": 0,
  "metadata": {
    "colab": {
      "provenance": [],
      "authorship_tag": "ABX9TyP08QV6BxW/hTgz8qV7ggSi",
      "include_colab_link": true
    },
    "kernelspec": {
      "name": "python3",
      "display_name": "Python 3"
    },
    "language_info": {
      "name": "python"
    }
  },
  "cells": [
    {
      "cell_type": "markdown",
      "metadata": {
        "id": "view-in-github",
        "colab_type": "text"
      },
      "source": [
        "<a href=\"https://colab.research.google.com/github/erum908/Project-4-Assignments-Erum/blob/main/04_dictionaries.ipynb\" target=\"_parent\"><img src=\"https://colab.research.google.com/assets/colab-badge.svg\" alt=\"Open In Colab\"/></a>"
      ]
    },
    {
      "cell_type": "code",
      "source": [
        "import hashlib\n",
        "print(\"03_powerful_passwords\")\n",
        "\n",
        "def hash_password(password):\n",
        "  return hashlib.sha256(password.encode()).hexdigest()\n",
        "\n",
        "stored_login = {\n",
        "    \"user@example.com\":hash_password(\"password123\"),\n",
        "    \"admin@example.com\": hash_password(\"admin123\")\n",
        "}\n",
        "\n",
        "def login(email,password):\n",
        "  if email in stored_login:\n",
        "      return stored_login[email] == hash_password(password)\n",
        "  return False\n",
        "\n",
        "if __name__ == \"__main__\":\n",
        "    email = input(\"Enter your email: \")\n",
        "    password = input(\"Enter your password: \")\n",
        "\n",
        "    if login(email,password):\n",
        "     print(\"Login successful\")\n",
        "    else:\n",
        "      print(\"Invalid email or password. \")"
      ],
      "metadata": {
        "colab": {
          "base_uri": "https://localhost:8080/"
        },
        "id": "avzGr4jcHQ4t",
        "outputId": "249248c6-8ae4-4cef-f8e1-a4792b743449"
      },
      "execution_count": 10,
      "outputs": [
        {
          "output_type": "stream",
          "name": "stdout",
          "text": [
            "03_powerful_passwords\n",
            "Enter your email: user@example.com\n",
            "Enter your password: password123\n",
            "Login successful\n"
          ]
        }
      ]
    },
    {
      "cell_type": "code",
      "execution_count": null,
      "metadata": {
        "colab": {
          "base_uri": "https://localhost:8080/"
        },
        "id": "NYi7hcMurkWW",
        "outputId": "ee1070fc-49cb-4ef9-88fc-cb3096d15931"
      },
      "outputs": [
        {
          "output_type": "stream",
          "name": "stdout",
          "text": [
            "04_dictionaries\n",
            "Enter a number (or 'Exit' to quit): 3\n",
            "{3: 1}\n",
            "Enter a number (or 'Exit' to quit): 2\n",
            "{3: 1, 2: 1}\n",
            "Enter a number (or 'Exit' to quit): 5\n",
            "{3: 1, 2: 1, 5: 1}\n",
            "Enter a number (or 'Exit' to quit): 6\n",
            "{3: 1, 2: 1, 5: 1, 6: 1}\n",
            "Enter a number (or 'Exit' to quit): Exit\n",
            "Invalid input. Please enter a number or  'Exit'. \n",
            "\n",
            " Number Counts:\n",
            "3 appears 1 times\n",
            "2 appears 1 times\n",
            "5 appears 1 times\n",
            "6 appears 1 times\n"
          ]
        }
      ],
      "source": [
        "print(\"00_count_nums\")\n",
        "\n",
        "def count_numbers():\n",
        "  count_dict = {}\n",
        "\n",
        "  while True:\n",
        "    num = input(\"Enter a number (or 'Exit' to quit): \")\n",
        "    if num.lower() == 'Exit':\n",
        "      break\n",
        "    if num.isdigit():\n",
        "      num = int(num)\n",
        "      count_dict[num] = count_dict.get(num,0) + 1\n",
        "      print(count_dict)\n",
        "    else:\n",
        "      print(\"Invalid input. Please enter a number or  'Exit'. \")\n",
        "      return count_dict\n",
        "\n",
        "def display_count(count_dict):\n",
        "  print(\"\\n Number Counts:\")\n",
        "  for key, value in count_dict.items():\n",
        "      print(f'{key} appears {value} times')\n",
        "\n",
        "\n",
        "if __name__ == \"__main__\":\n",
        "    counts = count_numbers()\n",
        "    display_count(counts)\n"
      ]
    },
    {
      "cell_type": "code",
      "source": [
        "print(\"01_phonebook\")\n",
        "\n",
        "def main():\n",
        "    phonebook = {}\n",
        "\n",
        "    while True:\n",
        "        print(\"\\nPhonebook Menu:\")\n",
        "        print(\"1. Add Contact\")\n",
        "        print(\"2. View Contact\")\n",
        "        print(\"3. Delete Contact\")\n",
        "        print(\"4. Display All Contacts\")\n",
        "        print(\"5. Exit\")\n",
        "\n",
        "        choice = input(\"Enter your choice: \")\n",
        "\n",
        "        if choice == \"1\":\n",
        "            name = input(\"Enter name: \")\n",
        "            number = input(\"Enter phone number: \")\n",
        "            phonebook[name] = number\n",
        "            print(f\"Contact {name} added.\")\n",
        "\n",
        "        elif choice == \"2\":\n",
        "            name = input(\"Enter name to search: \")\n",
        "            if name in phonebook:\n",
        "                print(f\"{name}: {phonebook[name]}\")\n",
        "            else:\n",
        "                print(\"Contact not found.\")\n",
        "\n",
        "        elif choice == \"3\":\n",
        "            name = input(\"Enter name to delete: \")\n",
        "            if name in phonebook:\n",
        "                del phonebook[name]\n",
        "                print(f\"Contact {name} deleted.\")\n",
        "            else:\n",
        "                print(\"Contact not found.\")\n",
        "\n",
        "        elif choice == \"4\":\n",
        "            if phonebook:\n",
        "                print(\"\\nPhonebook Contacts:\")\n",
        "                for name, number in phonebook.items():\n",
        "                    print(f\"{name}: {number}\")\n",
        "            else:\n",
        "                print(\"Phonebook is empty.\")\n",
        "\n",
        "        elif choice == \"5\":\n",
        "            print(\"Exiting phonebook.\")\n",
        "            break\n",
        "\n",
        "        else:\n",
        "            print(\"Invalid choice. Please try again.\")\n",
        "\n",
        "if __name__ == '__main__':\n",
        "    main()\n"
      ],
      "metadata": {
        "colab": {
          "base_uri": "https://localhost:8080/"
        },
        "id": "BnX9DhxNodiF",
        "outputId": "26b71d13-d88e-4de1-998d-6d2f470ab12c"
      },
      "execution_count": null,
      "outputs": [
        {
          "output_type": "stream",
          "name": "stdout",
          "text": [
            "01_phonebook\n",
            "\n",
            "Phonebook Menu:\n",
            "1. Add Contact\n",
            "2. View Contact\n",
            "3. Delete Contact\n",
            "4. Display All Contacts\n",
            "5. Exit\n",
            "Enter your choice: 1\n",
            "Enter name: kiran\n",
            "Enter phone number: 03422195253\n",
            "Contact kiran added.\n",
            "\n",
            "Phonebook Menu:\n",
            "1. Add Contact\n",
            "2. View Contact\n",
            "3. Delete Contact\n",
            "4. Display All Contacts\n",
            "5. Exit\n",
            "Enter your choice: 3\n",
            "Enter name to delete: kiran\n",
            "Contact kiran deleted.\n",
            "\n",
            "Phonebook Menu:\n",
            "1. Add Contact\n",
            "2. View Contact\n",
            "3. Delete Contact\n",
            "4. Display All Contacts\n",
            "5. Exit\n",
            "Enter your choice: 2\n",
            "Enter name to search: kiran\n",
            "Contact not found.\n",
            "\n",
            "Phonebook Menu:\n",
            "1. Add Contact\n",
            "2. View Contact\n",
            "3. Delete Contact\n",
            "4. Display All Contacts\n",
            "5. Exit\n",
            "Enter your choice: 4\n",
            "Phonebook is empty.\n",
            "\n",
            "Phonebook Menu:\n",
            "1. Add Contact\n",
            "2. View Contact\n",
            "3. Delete Contact\n",
            "4. Display All Contacts\n",
            "5. Exit\n",
            "Enter your choice: 5\n",
            "Exiting phonebook.\n"
          ]
        }
      ]
    },
    {
      "cell_type": "code",
      "source": [
        "print(\"02_pop_up_shop\")\n",
        "\n",
        "def main():\n",
        "    fruits = {'apple': 1.5, 'durian': 50, 'jackfruit': 80, 'kiwi': 1, 'rambutan': 1.5, 'mango': 5}\n",
        "\n",
        "    total_cost = 0\n",
        "    for fruit_name in fruits:\n",
        "        price = fruits[fruit_name]\n",
        "        amount_bought = int(input(\"How many (\" + fruit_name + \") do you want to buy?: \"))\n",
        "        total_cost += (price * amount_bought)\n",
        "\n",
        "    print(\"Your total is $\" + str(total_cost))\n",
        "\n",
        "\n",
        "\n",
        "\n",
        "if __name__ == '__main__':\n",
        "    main()\n",
        "\n",
        "\n",
        "\n",
        "\n",
        "\n",
        "\n",
        "\n",
        "\n",
        "\n",
        "\n",
        "\n",
        "\n",
        "\n",
        "\n",
        "\n",
        "\n",
        "\n",
        "\n",
        "\n",
        "\n",
        "\n",
        "\n",
        "\n",
        "\n",
        "\n",
        "\n",
        "\n",
        "\n"
      ],
      "metadata": {
        "colab": {
          "base_uri": "https://localhost:8080/"
        },
        "id": "0IjEQbk41Yog",
        "outputId": "36267c8e-fc69-447f-96d7-8ee2ded9108f"
      },
      "execution_count": 2,
      "outputs": [
        {
          "output_type": "stream",
          "name": "stdout",
          "text": [
            "02_pop_up_shop\n",
            "How many (apple) do you want to buy?: 2\n",
            "How many (durian) do you want to buy?: 3\n",
            "How many (jackfruit) do you want to buy?: 3\n",
            "How many (kiwi) do you want to buy?: 4\n",
            "How many (rambutan) do you want to buy?: 5\n",
            "How many (mango) do you want to buy?: 6\n",
            "Your total is $434.5\n"
          ]
        }
      ]
    }
  ]
}