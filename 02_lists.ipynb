{
  "nbformat": 4,
  "nbformat_minor": 0,
  "metadata": {
    "colab": {
      "provenance": [],
      "authorship_tag": "ABX9TyPv6rLUefpJHYPUAFT6Gm8U",
      "include_colab_link": true
    },
    "kernelspec": {
      "name": "python3",
      "display_name": "Python 3"
    },
    "language_info": {
      "name": "python"
    }
  },
  "cells": [
    {
      "cell_type": "markdown",
      "metadata": {
        "id": "view-in-github",
        "colab_type": "text"
      },
      "source": [
        "<a href=\"https://colab.research.google.com/github/erum908/Project-4-Assignments-Erum/blob/main/02_lists.ipynb\" target=\"_parent\"><img src=\"https://colab.research.google.com/assets/colab-badge.svg\" alt=\"Open In Colab\"/></a>"
      ]
    },
    {
      "cell_type": "code",
      "execution_count": 6,
      "metadata": {
        "colab": {
          "base_uri": "https://localhost:8080/"
        },
        "id": "frr2Lgw7Q-zM",
        "outputId": "87e5b023-de3a-464d-bf2d-b2918c6a29f1"
      },
      "outputs": [
        {
          "output_type": "stream",
          "name": "stdout",
          "text": [
            "01_add_many_number\n",
            "18\n"
          ]
        }
      ],
      "source": [
        "print(\"01_add_many_number\")\n",
        "def add_number(numbers)->int:\n",
        "  num:int  = 0\n",
        "  for i in numbers:\n",
        "    num += i\n",
        "  return num\n",
        "\n",
        "def main():\n",
        "  numbers:list[int] = [1,2,3,4,5,2,1]\n",
        "  sum = add_number(numbers)\n",
        "  print(sum)\n",
        "\n",
        "if __name__ == \"__main__\":\n",
        "  main()"
      ]
    },
    {
      "cell_type": "code",
      "source": [
        "print(\"02_double_list\")\n",
        "\n",
        "def main():\n",
        "  numbers:list[int] = [1,2,3,4,5]\n",
        "  for i in range(len(numbers)):\n",
        "    index = numbers[i]\n",
        "    numbers[i] = index * 2\n",
        "    print(numbers)\n",
        "\n",
        "if __name__ == \"__main__\":\n",
        "  main()"
      ],
      "metadata": {
        "colab": {
          "base_uri": "https://localhost:8080/"
        },
        "id": "Jy8ACKbEVCKb",
        "outputId": "294fdb46-a296-49a6-afa4-f850ee40b145"
      },
      "execution_count": 11,
      "outputs": [
        {
          "output_type": "stream",
          "name": "stdout",
          "text": [
            "02_double_list\n",
            "[2, 2, 3, 4, 5]\n",
            "[2, 4, 3, 4, 5]\n",
            "[2, 4, 6, 4, 5]\n",
            "[2, 4, 6, 8, 5]\n",
            "[2, 4, 6, 8, 10]\n"
          ]
        }
      ]
    },
    {
      "cell_type": "code",
      "source": [
        "print(\"04_flowing_with_data_structures\")\n",
        "\n",
        "def add_three_copies(Ist,data):\n",
        "  for i in range(3):\n",
        "    Ist.append(data)\n",
        "\n",
        "def main():\n",
        "  message = input(\"Enter a message to copy. \")\n",
        "  Ist = []\n",
        "  print(\"Before list: \",Ist)\n",
        "  add_three_copies(Ist,message)\n",
        "  print(\"After list: \",Ist)\n",
        "\n",
        "if __name__ == \"__main__\":\n",
        "  main()"
      ],
      "metadata": {
        "colab": {
          "base_uri": "https://localhost:8080/"
        },
        "id": "hj4bJwyTXxG3",
        "outputId": "05d33029-ba8c-41f2-90e4-c93cf5e9dfd6"
      },
      "execution_count": 17,
      "outputs": [
        {
          "output_type": "stream",
          "name": "stdout",
          "text": [
            "04_flowing_with_data_structures\n",
            "Enter a message to copy. cat\n",
            "Before list:  []\n",
            "After list:  ['cat', 'cat', 'cat']\n"
          ]
        }
      ]
    },
    {
      "cell_type": "code",
      "source": [
        "print(\"05_get_first_element\")\n",
        "\n",
        "def get_first_element(Ist):\n",
        "  print(Ist[0])\n",
        "\n",
        "def get_Ist():\n",
        "  Ist = []\n",
        "  elem:str = input(\"Enter an element to add to the list. \")\n",
        "  while elem != \"\":\n",
        "    Ist.append(elem)\n",
        "    elem = input(\"Enter an element to add to the list\")\n",
        "  return Ist\n",
        "\n",
        "def main():\n",
        "  Ist = get_Ist()\n",
        "  get_first_element(Ist)\n",
        "\n",
        "if __name__ == \"__main__\":\n",
        "  main()"
      ],
      "metadata": {
        "colab": {
          "base_uri": "https://localhost:8080/"
        },
        "id": "AHatqkt6eajb",
        "outputId": "033c1e53-ba7c-400e-c79f-fa7e7785f5a5"
      },
      "execution_count": 18,
      "outputs": [
        {
          "output_type": "stream",
          "name": "stdout",
          "text": [
            "05_get_first_element\n",
            "Enter an element to add to the list. a\n",
            "Enter an element to add to the listb\n",
            "Enter an element to add to the listc\n",
            "Enter an element to add to the listd\n",
            "Enter an element to add to the listd\n",
            "Enter an element to add to the listd\n",
            "Enter an element to add to the list\n",
            "a\n"
          ]
        }
      ]
    },
    {
      "cell_type": "code",
      "source": [
        "print(\"06_get_last_element\")\n",
        "\n",
        "def get_last_element(Ist):\n",
        "  print(Ist[-1])\n",
        "\n",
        "def get_last():\n",
        "  last = []\n",
        "  elem:str = input(\"Enter an element to add to the list. \")\n",
        "  while elem != \"\":\n",
        "    last.append(elem)\n",
        "    elem = input(\"Enter an element to add to the list. \")\n",
        "  return last\n",
        "\n",
        "def main():\n",
        "  last= get_last()\n",
        "  get_last_element(last)\n",
        "\n",
        "if __name__ == \"__main__\":\n",
        "  main()\n"
      ],
      "metadata": {
        "colab": {
          "base_uri": "https://localhost:8080/"
        },
        "id": "h1oOvT7zYl4s",
        "outputId": "cf50c5c9-0a62-4ae4-b057-b8bee94b892a"
      },
      "execution_count": 5,
      "outputs": [
        {
          "output_type": "stream",
          "name": "stdout",
          "text": [
            "06_get_last_element\n",
            "Enter an element to add to the list. a\n",
            "Enter an element to add to the list. b\n",
            "Enter an element to add to the list. \n",
            "b\n"
          ]
        }
      ]
    },
    {
      "cell_type": "code",
      "source": [],
      "metadata": {
        "id": "cDuGES68d4fP"
      },
      "execution_count": null,
      "outputs": []
    },
    {
      "cell_type": "code",
      "source": [
        "\n",
        "print(\"07_get_list\")\n",
        "\n",
        "def main():\n",
        "  Ist = []\n",
        "  val = input(\"Enter a value to add to the list. \")\n",
        "  while val:\n",
        "    Ist.append(val)\n",
        "    val = input(\"Enter a value to add to the list. \")\n",
        "    print(\"Here's the list: \",Ist)\n",
        "\n",
        "if __name__ == \"__main__\":\n",
        "  main()\n",
        "\n"
      ],
      "metadata": {
        "colab": {
          "base_uri": "https://localhost:8080/"
        },
        "id": "nrjSgwwPbhaF",
        "outputId": "aad50205-131b-48ff-803b-e9ddb2e221b0"
      },
      "execution_count": 8,
      "outputs": [
        {
          "output_type": "stream",
          "name": "stdout",
          "text": [
            "07_get_list\n",
            "Enter a value to add to the list. ali\n",
            "Enter a value to add to the list. azra\n",
            "Here's the list:  ['ali']\n",
            "Enter a value to add to the list. \n",
            "Here's the list:  ['ali', 'azra']\n"
          ]
        }
      ]
    },
    {
      "cell_type": "code",
      "source": [
        "print(\"08_shorten\")\n",
        "\n",
        "MAX_LENGTH : int = 3\n",
        "\n",
        "def shorten(lst):\n",
        "    while len(lst) > MAX_LENGTH:\n",
        "        last_elem = lst.pop()\n",
        "        print(last_elem)\n",
        "\n",
        "\n",
        "\n",
        "def get_lst():\n",
        "    \"\"\"\n",
        "    Prompts the user to enter one element of the list at a time and returns the resulting list.\n",
        "    \"\"\"\n",
        "    lst = []\n",
        "    elem = input(\"Please enter an element of the list or press enter to stop. \")\n",
        "    while elem != \"\":\n",
        "        lst.append(elem)\n",
        "        elem = input(\"Please enter an element of the list or press enter to stop. \")\n",
        "    return lst\n",
        "\n",
        "def main():\n",
        "    lst = get_lst()\n",
        "    shorten(lst)\n",
        "\n",
        "\n",
        "if __name__ == '__main__':\n",
        "    main()\n",
        "\n",
        "\n",
        "\n"
      ],
      "metadata": {
        "colab": {
          "base_uri": "https://localhost:8080/"
        },
        "id": "KAxIDsvqfOxZ",
        "outputId": "3e032f6b-3091-42d9-e0b2-9fbfcbab6220"
      },
      "execution_count": 10,
      "outputs": [
        {
          "output_type": "stream",
          "name": "stdout",
          "text": [
            "08_shorten\n",
            "Please enter an element of the list or press enter to stop. ali\n",
            "Please enter an element of the list or press enter to stop. abu\n",
            "Please enter an element of the list or press enter to stop. kiran\n",
            "Please enter an element of the list or press enter to stop. mehdia\n",
            "Please enter an element of the list or press enter to stop. ami\n",
            "Please enter an element of the list or press enter to stop. azra\n",
            "Please enter an element of the list or press enter to stop. \n",
            "azra\n",
            "ami\n",
            "mehdia\n"
          ]
        }
      ]
    }
  ]
}