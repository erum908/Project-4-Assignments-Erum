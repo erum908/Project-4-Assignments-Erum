{
  "nbformat": 4,
  "nbformat_minor": 0,
  "metadata": {
    "colab": {
      "provenance": [],
      "authorship_tag": "ABX9TyN1XxOH8ujkYsUT9KZB4g9H",
      "include_colab_link": true
    },
    "kernelspec": {
      "name": "python3",
      "display_name": "Python 3"
    },
    "language_info": {
      "name": "python"
    }
  },
  "cells": [
    {
      "cell_type": "markdown",
      "metadata": {
        "id": "view-in-github",
        "colab_type": "text"
      },
      "source": [
        "<a href=\"https://colab.research.google.com/github/erum908/Project-4-Assignments-Erum/blob/main/00_intro_python.ipynb\" target=\"_parent\"><img src=\"https://colab.research.google.com/assets/colab-badge.svg\" alt=\"Open In Colab\"/></a>"
      ]
    },
    {
      "cell_type": "code",
      "execution_count": 1,
      "metadata": {
        "colab": {
          "base_uri": "https://localhost:8080/"
        },
        "id": "AQ49OlR85bcH",
        "outputId": "e7709660-c71e-4def-8257-4e3b2c2ded95"
      },
      "outputs": [
        {
          "output_type": "stream",
          "name": "stdout",
          "text": [
            "01_add_two_numbers\n",
            "This application for add two numbers\n",
            "Enter first number: 5\n",
            "Enter second number: 7\n",
            "The total sum of 5 and 7 is 12\n"
          ]
        }
      ],
      "source": [
        "print(\"01_add_two_numbers\")\n",
        "\n",
        "def add():\n",
        "  print(\"This application for add two numbers\")\n",
        "  first_number = int(input(\"Enter first number: \"))\n",
        "  second_number = int(input(\"Enter second number: \"))\n",
        "  total = int(first_number + second_number)\n",
        "  print(f'The total sum of {first_number} and {second_number} is {total}')\n",
        "\n",
        "if __name__ == \"__main__\":\n",
        "  add()\n",
        "\n",
        ""
      ]
    },
    {
      "cell_type": "code",
      "source": [
        "print(\"02_agreement_bot\")\n",
        "\n",
        "def bot():\n",
        "  animal =str(input(\"What is your favourite animal?\"))\n",
        "  print(f'My favourite animal is also {animal}!')\n",
        "\n",
        "if __name__ == \"__main__\":\n",
        "  bot()"
      ],
      "metadata": {
        "colab": {
          "base_uri": "https://localhost:8080/"
        },
        "id": "GHWGp0s4_ILm",
        "outputId": "933a2c7c-18e4-475f-8982-a9721ca25f2f"
      },
      "execution_count": 4,
      "outputs": [
        {
          "output_type": "stream",
          "name": "stdout",
          "text": [
            "02_agreement_bot\n",
            "What is your favourite animal?cat\n",
            "My favourite animal is also cat!\n"
          ]
        }
      ]
    },
    {
      "cell_type": "code",
      "source": [
        "print(\"03_fahrenheit_to_celsius\")\n",
        "\n",
        "def temp():\n",
        "    print(\"This code for converting farenhit to celsius!\")\n",
        "    farenhit_degree = float(input(\"Enter your farenhit degree. -8 \"))\n",
        "    celsius_degree = (farenhit_degree - 32) * 5.0/9.0\n",
        "    print(f'Temperature {farenhit_degree}F = {celsius_degree}C')\n",
        "\n",
        "if __name__ == '__main__':\n",
        "    temp()"
      ],
      "metadata": {
        "colab": {
          "base_uri": "https://localhost:8080/"
        },
        "id": "VYhm2QKECDoZ",
        "outputId": "71c6b487-a547-4fd7-d848-377d5ef793f9"
      },
      "execution_count": 6,
      "outputs": [
        {
          "output_type": "stream",
          "name": "stdout",
          "text": [
            "03_fahrenheit_to_celsius\n",
            "This code for converting farenhit to celsius!\n",
            "Enter your farenhit degree. 65\n",
            "Temperature 65.0F = 18.333333333333332C\n"
          ]
        }
      ]
    },
    {
      "cell_type": "code",
      "source": [
        "\n",
        "\n",
        "print(\"04_how_old_are_they\")\n",
        "\n",
        "def add_ages():\n",
        "  anthon:int = 21\n",
        "  beth:int = anthon + 6\n",
        "  chen:int = beth + 20\n",
        "  drew:int = chen + anthon\n",
        "  ethon:int = chen\n",
        "\n",
        "  print(\"Anthon is\" + str (anthon))\n",
        "  print(\"Beth is\" + str (beth))\n",
        "  print(\"Chen is\" + str (chen))\n",
        "  print(\"Drew is\"+ str (drew))\n",
        "  print(\"Ethen is\" + str (ethon))\n",
        "\n",
        "if __name__ ==\"__main__\":\n",
        "  add_ages()"
      ],
      "metadata": {
        "colab": {
          "base_uri": "https://localhost:8080/"
        },
        "id": "EL7cuXmpSeaX",
        "outputId": "dfc31b21-8c91-4975-88af-2d6844983272"
      },
      "execution_count": 8,
      "outputs": [
        {
          "output_type": "stream",
          "name": "stdout",
          "text": [
            "04_how_old_are_they\n",
            "Anthon is21\n",
            "Beth is27\n",
            "Chen is47\n",
            "Drew is68\n",
            "Ethen is47\n"
          ]
        }
      ]
    },
    {
      "cell_type": "code",
      "source": [
        "print(\"05_triangle_perimeter\")\n",
        "\n",
        "def tringle():\n",
        "  print(\"This code is about perimeter of tringle.\")\n",
        "  side1:float = float(input(\"Enter your first side no of tringle. \"))\n",
        "  side2:float = float(input(\"Enter your second side no of tringle. \"))\n",
        "  side3:float = float(input(\"Enter your third side no of tringle. \"))\n",
        "  total:float = float(side1 + side2 + side3)\n",
        "  print(f'The perimeter of the triangle is {total} ')\n",
        "\n",
        "if __name__ == \"__main__\":\n",
        "  tringle()"
      ],
      "metadata": {
        "colab": {
          "base_uri": "https://localhost:8080/"
        },
        "id": "zvcTW_aRaPIw",
        "outputId": "821a804d-552a-4914-e90e-d981a9386592"
      },
      "execution_count": 12,
      "outputs": [
        {
          "output_type": "stream",
          "name": "stdout",
          "text": [
            "05_triangle_perimeter\n",
            "This code is about perimeter of tringle.\n",
            "Enter your first side no of tringle. 2\n",
            "Enter your second side no of tringle. 1\n",
            "Enter your third side no of tringle. 1\n",
            "The perimeter of the triangle is 4.0 \n"
          ]
        }
      ]
    },
    {
      "cell_type": "code",
      "source": [
        "print(\"05_triangle_perimeter\")\n",
        "\n",
        "def square():\n",
        "  print(\"This code is about squarebof given number\")\n",
        "  num1:int = int(input(\"Enter any number and i will give u a square value.\"))\n",
        "  print(f'The square of {num1} is {num1 ** 2}')\n",
        "\n",
        "if __name__ == \"__main__\":\n",
        "  square()"
      ],
      "metadata": {
        "colab": {
          "base_uri": "https://localhost:8080/"
        },
        "id": "IIHK5mLHfKZp",
        "outputId": "104b80fc-7988-4772-88ea-2220dc5f7cbc"
      },
      "execution_count": 17,
      "outputs": [
        {
          "output_type": "stream",
          "name": "stdout",
          "text": [
            "05_triangle_perimeter\n",
            "This code is about squarebof given number\n",
            "Enter any number and i will give u a square value.5\n",
            "The square of 5 is 25\n"
          ]
        }
      ]
    }
  ]
}