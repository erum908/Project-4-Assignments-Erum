{
  "nbformat": 4,
  "nbformat_minor": 0,
  "metadata": {
    "colab": {
      "provenance": [],
      "authorship_tag": "ABX9TyNb5igePUmLFljTy9s+Q+US",
      "include_colab_link": true
    },
    "kernelspec": {
      "name": "python3",
      "display_name": "Python 3"
    },
    "language_info": {
      "name": "python"
    }
  },
  "cells": [
    {
      "cell_type": "markdown",
      "metadata": {
        "id": "view-in-github",
        "colab_type": "text"
      },
      "source": [
        "<a href=\"https://colab.research.google.com/github/erum908/Project-4-Assignments-Erum/blob/main/02_intermediate.ipynb\" target=\"_parent\"><img src=\"https://colab.research.google.com/assets/colab-badge.svg\" alt=\"Open In Colab\"/></a>"
      ]
    },
    {
      "cell_type": "code",
      "execution_count": 38,
      "metadata": {
        "id": "qCUJGiZ4RNO6",
        "colab": {
          "base_uri": "https://localhost:8080/"
        },
        "outputId": "7073c9f7-7d15-4049-c6cc-844fb4959d81"
      },
      "outputs": [
        {
          "output_type": "stream",
          "name": "stdout",
          "text": [
            "High Low Game\n",
            "Welcome to the High Low Game!\n",
            "*****************************\n",
            "Round 1\n",
            "Your number is 61\n",
            "Do you think your number is higher or lower than the computer's number? High\n",
            "That's incorrect. The computer's number was 72\n",
            "Your score is now 0\n",
            "\n",
            "Round 2\n",
            "Your number is 99\n",
            "Do you think your number is higher or lower than the computer's number? low\n",
            "That's incorrect. The computer's number was 26\n",
            "Your score is now 0\n",
            "\n",
            "Round 3\n",
            "Your number is 92\n",
            "Do you think your number is higher or lower than the computer's number? high\n",
            "That's incorrect. The computer's number was 95\n",
            "Your score is now 0\n",
            "\n",
            "Round 4\n",
            "Your number is 41\n",
            "Do you think your number is higher or lower than the computer's number? low\n",
            "That's incorrect. The computer's number was 46\n",
            "Your score is now 0\n",
            "\n",
            "Round 5\n",
            "Your number is 43\n",
            "Do you think your number is higher or lower than the computer's number? low\n",
            "That's incorrect. The computer's number was 2\n",
            "Your score is now 0\n",
            "\n",
            "Thanks for playing!\n"
          ]
        }
      ],
      "source": [
        "\n",
        "import random\n",
        "\n",
        "print(\"High Low Game\")\n",
        "\n",
        "rounds = 5\n",
        "\n",
        "def main():\n",
        "    print(\"Welcome to the High Low Game!\")\n",
        "    print(\"*****************************\")\n",
        "\n",
        "    your_score = 0\n",
        "    for i in range(rounds):\n",
        "        print(\"Round\", i + 1)\n",
        "\n",
        "        computer_number = random.randint(1, 100)\n",
        "        your_number = random.randint(1, 100)\n",
        "\n",
        "        print(\"Your number is\", your_number)\n",
        "\n",
        "        choice = input(\"Do you think your number is higher or lower than the computer's number? \").strip().lower()\n",
        "\n",
        "        higher_and_correct = choice == \"higher\" and your_number > computer_number\n",
        "        lower_and_correct = choice == \"lower\" and your_number < computer_number\n",
        "\n",
        "        if higher_and_correct or lower_and_correct:\n",
        "            print(\"You were right! The computer's number was\", computer_number)\n",
        "            your_score += 1\n",
        "        else:\n",
        "            print(\"That's incorrect. The computer's number was\", computer_number)\n",
        "\n",
        "        print(\"Your score is now\", your_score)\n",
        "        print()\n",
        "\n",
        "    print(\"Thanks for playing!\")\n",
        "\n",
        "if __name__ == \"__main__\":\n",
        "    main()\n",
        "\n",
        "\n",
        "\n",
        "\n",
        "\n",
        "\n",
        "\n",
        "\n"
      ]
    },
    {
      "cell_type": "code",
      "source": [
        "print(\"Planatory Weight Calculator\")\n",
        "\n",
        "def main():\n",
        "  print(\"Welcome to the Planetary Weight Calculator!\")\n",
        "  print(\"*******************************************\")\n",
        "\n",
        "earth_weight = float(input(\"Enter your weight on Earth:\"))\n",
        "\n",
        "gravity_ratios = {\n",
        "    \"Mercury\": 0.38,\n",
        "    \"Venus\": 0.91,\n",
        "    \"Mars\": 0.38,\n",
        "    \"Jupiter\": 2.34,\n",
        "    \"Saturn\": 0.93,\n",
        "    \"Uranus\": 0.92,\n",
        "    \"Neptune\": 1.19\n",
        "}\n",
        "print(\"\\n Select a planet\")\n",
        "for planet in gravity_ratios:\n",
        "    print(f'={planet}')\n",
        "\n",
        "planet_choice = input(\"Enter the name of the planet: \").title()\n",
        "\n",
        "if planet_choice in gravity_ratios:\n",
        "    new_weight = earth_weight * gravity_ratios[planet_choice]\n",
        "    print(f\"\\n your weight on {planet_choice} is {new_weight: .2f}kg\")\n",
        "else:\n",
        "  print(f\"\\n Invalid planet name\")\n",
        "\n",
        "  print( f\"\\n Thank you for using the Planetary Weight Calculator!\")\n",
        "\n",
        "if __name__ == \"__main__\":\n",
        "    main()\n",
        "\n"
      ],
      "metadata": {
        "colab": {
          "base_uri": "https://localhost:8080/"
        },
        "id": "9y4rDbAZYhDb",
        "outputId": "53668496-467d-40eb-f334-05ce014bf812"
      },
      "execution_count": 47,
      "outputs": [
        {
          "output_type": "stream",
          "name": "stdout",
          "text": [
            "Planatory Weight Calculator\n",
            "Enter your weight on Earth:56\n",
            "\n",
            " Select a planet\n",
            "=Mercury\n",
            "=Venus\n",
            "=Mars\n",
            "=Jupiter\n",
            "=Saturn\n",
            "=Uranus\n",
            "=Neptune\n",
            "Enter the name of the planet: venus\n",
            "\n",
            " your weight on Venus is  50.96kg\n",
            "Welcome to the Planetary Weight Calculator!\n",
            "*******************************************\n"
          ]
        }
      ]
    },
    {
      "cell_type": "code",
      "source": [],
      "metadata": {
        "id": "6HOrX5dcHJTk"
      },
      "execution_count": null,
      "outputs": []
    },
    {
      "cell_type": "code",
      "source": [
        "print(\"Lists and Dicts\")\n",
        "def access_element(lst, index):\n",
        "    \"\"\"Access an element at the given index in the list.\"\"\"\n",
        "    try:\n",
        "        return lst[index]\n",
        "    except IndexError:\n",
        "        return \" Error: Index out of range.\"\n",
        "\n",
        "\n",
        "def modify_element(lst, index, new_value):\n",
        "    \"\"\"Modify an element at the given index in the list.\"\"\"\n",
        "    try:\n",
        "        lst[index] = new_value\n",
        "        return lst\n",
        "    except IndexError:\n",
        "        return \" Error: Index out of range.\"\n",
        "\n",
        "\n",
        "def slice_list(lst, start, end):\n",
        "    \"\"\"Return a slice of the list from start index to end index.\"\"\"\n",
        "    return lst[start:end]\n",
        "\n",
        "\n",
        "def index_game():\n",
        "    \"\"\"Main function for the Index Game.\"\"\"\n",
        "    try:\n",
        "        user_input = input(\"Enter a list of numbers separated by spaces: \")\n",
        "        lst = list(map(int, user_input.split()))\n",
        "\n",
        "        print(\"\\n Current list:\", lst)\n",
        "        operation = input(\"Choose an operation (access, modify, slice): \").strip().lower()\n",
        "\n",
        "        if operation == \"access\":\n",
        "            index = int(input(\"Enter index to access: \"))\n",
        "            print(\" Element:\", access_element(lst, index))\n",
        "\n",
        "        elif operation == \"modify\":\n",
        "            index = int(input(\"Enter index to modify: \"))\n",
        "            new_value = int(input(\"Enter new value: \"))\n",
        "            print(\" Updated list:\", modify_element(lst, index, new_value))\n",
        "\n",
        "        elif operation == \"slice\":\n",
        "            start = int(input(\"Enter start index: \"))\n",
        "            end = int(input(\"Enter end index: \"))\n",
        "            print(\" Sliced list:\", slice_list(lst, start, end))\n",
        "\n",
        "        else:\n",
        "            print(\" Error: Invalid operation.\")\n",
        "\n",
        "    except ValueError:\n",
        "        print(\" Error: Please enter valid numbers.\")\n",
        "\n",
        "\n",
        "def main():\n",
        "    \"\"\"List practice solution.\"\"\"\n",
        "    fruit_lst = ['apple', 'banana', 'orange', 'grape', 'pineapple']\n",
        "\n",
        "    print(f\"\\n Length of the list: {len(fruit_lst)}\")\n",
        "\n",
        "    fruit_lst.append('mango')\n",
        "\n",
        "    print(\"\\n Updated Fruit List:\")\n",
        "    for fruit in fruit_lst:\n",
        "        print(f\"- {fruit}\")\n",
        "\n",
        "    print(\"\\n List update complete!\")\n",
        "\n",
        "\n",
        "if __name__ == \"__main__\":\n",
        "    index_game()\n",
        "    main()\n"
      ],
      "metadata": {
        "colab": {
          "base_uri": "https://localhost:8080/"
        },
        "id": "lGwHfwfDF9hu",
        "outputId": "47f620e2-ab59-4939-c1a7-d9777e2ed36b"
      },
      "execution_count": 54,
      "outputs": [
        {
          "output_type": "stream",
          "name": "stdout",
          "text": [
            "Lists and Dicts\n",
            "Enter a list of numbers separated by spaces: Ist\n",
            " Error: Please enter valid numbers.\n",
            "\n",
            " Length of the list: 5\n",
            "\n",
            " Updated Fruit List:\n",
            "- apple\n",
            "- banana\n",
            "- orange\n",
            "- grape\n",
            "- pineapple\n",
            "- mango\n",
            "\n",
            " List update complete!\n"
          ]
        }
      ]
    }
  ]
}