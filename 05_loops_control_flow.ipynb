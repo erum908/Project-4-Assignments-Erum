{
  "nbformat": 4,
  "nbformat_minor": 0,
  "metadata": {
    "colab": {
      "provenance": [],
      "authorship_tag": "ABX9TyMSzv00Mg0xBZzCNnaREDp2",
      "include_colab_link": true
    },
    "kernelspec": {
      "name": "python3",
      "display_name": "Python 3"
    },
    "language_info": {
      "name": "python"
    }
  },
  "cells": [
    {
      "cell_type": "markdown",
      "metadata": {
        "id": "view-in-github",
        "colab_type": "text"
      },
      "source": [
        "<a href=\"https://colab.research.google.com/github/erum908/Project-4-Assignments-Erum/blob/main/05_loops_control_flow.ipynb\" target=\"_parent\"><img src=\"https://colab.research.google.com/assets/colab-badge.svg\" alt=\"Open In Colab\"/></a>"
      ]
    },
    {
      "cell_type": "code",
      "execution_count": null,
      "metadata": {
        "colab": {
          "base_uri": "https://localhost:8080/"
        },
        "id": "LMvpuS53tXGZ",
        "outputId": "b7bc144e-4aa7-441c-eb75-f24b73a94d81"
      },
      "outputs": [
        {
          "output_type": "stream",
          "name": "stdout",
          "text": [
            "00_guess_my_number\n",
            "I am thinking of a number between 1 and 100\n",
            "Enter a guess:5\n",
            "Your guess is too low. \n",
            "Enter a guess:80\n",
            "Your guess istoo high. \n",
            "Enter a guess:70\n",
            "Your guess is too low. \n",
            "Enter a guess:71\n",
            "Your guess is too low. \n",
            "Enter a guess:72\n",
            "Your guess is too low. \n",
            "Enter a guess:73\n",
            "Your guess is too low. \n",
            "Enter a guess:74\n",
            "Your guess is too low. \n",
            "Enter a guess:75\n",
            "Your guess is too low. \n",
            "Enter a guess:76\n",
            "You got it\n"
          ]
        }
      ],
      "source": [
        "import random\n",
        "print(\"00_guess_my_number\")\n",
        "\n",
        "def main():\n",
        "    secret_number = random.randint(1,100)\n",
        "    print(\"I am thinking of a number between 1 and 100\")\n",
        "\n",
        "    guess = int(input(\"Enter a guess:\"))\n",
        "\n",
        "    while guess !=secret_number:\n",
        "        if guess < secret_number:\n",
        "            print(\"Your guess is too low. \")\n",
        "        else:\n",
        "            print(\"Your guess istoo high. \")\n",
        "        guess = int(input(\"Enter a guess:\"))\n",
        "\n",
        "    print(\"You got it\")\n",
        "\n",
        "if __name__ == \"__main__\":\n",
        "  main()"
      ]
    },
    {
      "cell_type": "code",
      "source": [
        "print(\"01_fibonacci\")\n",
        "\n",
        "max_value = 10000\n",
        "\n",
        "def main():\n",
        "  a,b = 0,1\n",
        "  print(a, b, end=\" \")\n",
        "\n",
        "  while True:\n",
        "\n",
        "    c=a+b\n",
        "    if c >= max_value:\n",
        "      break\n",
        "    print(c, end = \" \")\n",
        "    a,b = b,c\n",
        "\n",
        "\n",
        "if __name__ == \"__main__\":\n",
        "    main()\n",
        "\n"
      ],
      "metadata": {
        "colab": {
          "base_uri": "https://localhost:8080/"
        },
        "id": "Dp2Y2J7N2gRV",
        "outputId": "a9564649-6257-478f-8606-824b307a823e"
      },
      "execution_count": null,
      "outputs": [
        {
          "output_type": "stream",
          "name": "stdout",
          "text": [
            "01_fibonacci\n",
            "0 1 1 2 3 5 8 13 21 34 55 89 144 233 377 610 987 1597 2584 4181 6765 "
          ]
        }
      ]
    },
    {
      "cell_type": "code",
      "source": [
        "print(\"02_print_evens\")\n",
        "\n",
        "def main():\n",
        "    for i in range(1, 41):\n",
        "        print(i * 2)\n",
        "\n",
        "if __name__ == \"__main__\":\n",
        "    main()\n"
      ],
      "metadata": {
        "colab": {
          "base_uri": "https://localhost:8080/"
        },
        "id": "Zkjz19rEUzF9",
        "outputId": "8f59b5f9-fd5e-464e-f7f9-e8f5a18fcb5a"
      },
      "execution_count": null,
      "outputs": [
        {
          "output_type": "stream",
          "name": "stdout",
          "text": [
            "02_print_evens\n",
            "2\n",
            "4\n",
            "6\n",
            "8\n",
            "10\n",
            "12\n",
            "14\n",
            "16\n",
            "18\n",
            "20\n",
            "22\n",
            "24\n",
            "26\n",
            "28\n",
            "30\n",
            "32\n",
            "34\n",
            "36\n",
            "38\n",
            "40\n"
          ]
        }
      ]
    },
    {
      "cell_type": "code",
      "source": [
        "print(\"03_wholesome_machine\")\n",
        "\n",
        "correct_affirmation = \"I am capable of doing anything.I put my mind to. \"\n",
        "\n",
        "def main():\n",
        "  print(\"Welcome to the wholesome machine\")\n",
        "  while True:\n",
        "    user_input = input(\"Please type the following affirmation: \" + correct_affirmation + \"\\n\")\n",
        "    if user_input == correct_affirmation:\n",
        "      print(\"That's right!\")\n",
        "      break\n",
        "    else:\n",
        "      print(\"That's wrong. Try again\")\n",
        "\n",
        "if __name__== \"__main__\":\n",
        "    main()\n",
        "\n"
      ],
      "metadata": {
        "colab": {
          "base_uri": "https://localhost:8080/"
        },
        "id": "EVdnTG2BkSDj",
        "outputId": "5143fa06-b8ba-466b-9e69-964dc7cf1c8c"
      },
      "execution_count": 1,
      "outputs": [
        {
          "output_type": "stream",
          "name": "stdout",
          "text": [
            "03_wholesome_machine\n",
            "Welcome to the wholesome machine\n",
            "Please type the following affirmation: I am capable of doing anything.I put my mind to. \n",
            "p\n",
            "That's wrong. Try again\n",
            "Please type the following affirmation: I am capable of doing anything.I put my mind to. \n",
            "I am capable of doing anything.I put my mind to. \n",
            "That's right!\n"
          ]
        }
      ]
    },
    {
      "cell_type": "code",
      "source": [
        "print(\"04_liftoff\")\n",
        "\n",
        "def main():\n",
        "  for i in range(10,0,-1):\n",
        "    print(i,end = \" \")\n",
        "  print(\"liftoff\")\n",
        "\n",
        "if __name__== \"__main__\":\n",
        "    main()\n",
        "\n",
        "\n"
      ],
      "metadata": {
        "colab": {
          "base_uri": "https://localhost:8080/"
        },
        "id": "X9GuhleO3r4T",
        "outputId": "9f35eaf0-23f9-40b3-959a-4afb72799194"
      },
      "execution_count": 4,
      "outputs": [
        {
          "output_type": "stream",
          "name": "stdout",
          "text": [
            "04_liftoff\n",
            "10 9 8 7 6 5 4 3 2 1 liftoff\n"
          ]
        }
      ]
    },
    {
      "cell_type": "code",
      "source": [
        "print(\"05_double_it\")\n",
        "\n",
        "def main():\n",
        "  try:\n",
        "     user_value = int(input(\"Enter a number: \"))\n",
        "     while user_value < 100:\n",
        "         user_value *= 2\n",
        "     print(\"Final_value:\",user_value)\n",
        "  except ValueError:\n",
        "    print(\"Invalid input! Please enter a valid number.\")\n",
        "\n",
        "if __name__== \"__main__\":\n",
        "    main()\n",
        "\n"
      ],
      "metadata": {
        "colab": {
          "base_uri": "https://localhost:8080/"
        },
        "id": "8I-X8fsd5-qj",
        "outputId": "b82a5d3d-abcf-4d73-8aa0-107d185ec76c"
      },
      "execution_count": 10,
      "outputs": [
        {
          "output_type": "stream",
          "name": "stdout",
          "text": [
            "05_double_it\n",
            "Enter a number: 2\n",
            "Final_value: 128\n"
          ]
        }
      ]
    }
  ]
}